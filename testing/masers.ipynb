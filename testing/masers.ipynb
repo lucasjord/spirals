{
 "cells": [
  {
   "cell_type": "code",
   "execution_count": 66,
   "metadata": {},
   "outputs": [],
   "source": [
    "#%matplotlib widget\n",
    "\n",
    "import numpy as np, re\n",
    "import matplotlib.pyplot as plt"
   ]
  },
  {
   "cell_type": "code",
   "execution_count": 62,
   "metadata": {},
   "outputs": [],
   "source": [
    "def get_file(path):\n",
    "    #opens and external file and makes it into a list\n",
    "    fopen = path\n",
    "    f=open(fopen, 'r+')\n",
    "    g=list(f)\n",
    "    g=map(lambda s: s.strip(), g)\n",
    "    return np.array(list(g))\n",
    "\n",
    "def splitt(old_list):\n",
    "    #splits the list entries into sublists\n",
    "    new_list=[]\n",
    "    for i in old_list:\n",
    "        new_list+=[i.split()]\n",
    "    return np.array(new_list)\n",
    "\n",
    "def name2long(name):\n",
    "    if   '-' in name: return float(name.split('-')[0])\n",
    "    elif '+' in name: return float(name.split('+')[0])"
   ]
  },
  {
   "cell_type": "code",
   "execution_count": 44,
   "metadata": {},
   "outputs": [],
   "source": [
    "z = splitt(get_file('/Users/Lucas/Methanol_multibeam_radec.txt')[4:-2])"
   ]
  },
  {
   "cell_type": "code",
   "execution_count": 45,
   "metadata": {},
   "outputs": [],
   "source": [
    "for i in range(len(z)):\n",
    "    if not len(z[i])==11: print(i,len(z[i]),z[i])"
   ]
  },
  {
   "cell_type": "code",
   "execution_count": 47,
   "metadata": {},
   "outputs": [],
   "source": [
    "names, rh, rm, rs, dd, dm, ds, v1, f1, v2, f2 = z.T"
   ]
  },
  {
   "cell_type": "code",
   "execution_count": 79,
   "metadata": {},
   "outputs": [],
   "source": [
    "L = []\n",
    "for name in names:\n",
    "    L.append(name2long(name))\n",
    "    \n",
    "l=np.array(L)\n",
    "l[l > 180] = l[l>180]-360"
   ]
  },
  {
   "cell_type": "code",
   "execution_count": 123,
   "metadata": {},
   "outputs": [
    {
     "data": {
      "text/plain": [
       "(-150, 120)"
      ]
     },
     "execution_count": 123,
     "metadata": {},
     "output_type": "execute_result"
    },
    {
     "data": {
      "image/png": "[encoded data removed]",
      "text/plain": [
       "<Figure size 504x504 with 1 Axes>"
      ]
     },
     "metadata": {
      "needs_background": "light"
     },
     "output_type": "display_data"
    }
   ],
   "source": [
    "fig, ax = plt.subplots(1,figsize=(7,7))\n",
    "ax.plot(l+360,v2.astype(float),'r.')\n",
    "ax.invert_xaxis()\n",
    "ax.hlines(y=-10,xmin=240,xmax=400)\n",
    "ax.vlines(x=350,ymin=-200,ymax=200)\n",
    "ax.vlines(x=270,ymin=-200,ymax=200)\n",
    "ax.set_xlim(359.9,250)\n",
    "ax.set_ylim(-150,120)"
   ]
  },
  {
   "cell_type": "code",
   "execution_count": 161,
   "metadata": {},
   "outputs": [
    {
     "data": {
      "text/plain": [
       "(359.9, 270)"
      ]
     },
     "execution_count": 161,
     "metadata": {},
     "output_type": "execute_result"
    },
    {
     "data": {
      "image/png": "[encoded data removed]",
      "text/plain": [
       "<Figure size 504x504 with 1 Axes>"
      ]
     },
     "metadata": {
      "needs_background": "light"
     },
     "output_type": "display_data"
    }
   ],
   "source": [
    "indx1 = v1.astype(float)>-5\n",
    "indx2 = (l < -10)*(l + 360 > 270)\n",
    "indx = indx1 * indx2\n",
    "fig, ax = plt.subplots(1,figsize=(7,7))\n",
    "ax.plot(l[indx]+360,f2[indx].astype(float),'r.')\n",
    "ax.invert_xaxis()\n",
    "ax.set_xlim(359.9,270)"
   ]
  },
  {
   "cell_type": "code",
   "execution_count": 162,
   "metadata": {},
   "outputs": [
    {
     "data": {
      "text/plain": [
       "62"
      ]
     },
     "execution_count": 162,
     "metadata": {},
     "output_type": "execute_result"
    }
   ],
   "source": [
    "indx.sum()"
   ]
  },
  {
   "cell_type": "code",
   "execution_count": 167,
   "metadata": {},
   "outputs": [
    {
     "name": "stdout",
     "output_type": "stream",
     "text": [
      "345.198-0.030  17h04m59.49s  -41d12m45.7s   -0.5    2.53\n",
      "345.441+0.205  17h04m46.87s  -40d52m38.0s    0.9    2.27\n",
      "345.807-0.044  17h06m59.85s  -40d44m08.2s   -2.0    1.00\n",
      "346.517+0.117  17h08m33.20s  -40d04m14.3s   -1.7    0.30\n",
      "346.522+0.085  17h08m42.29s  -40d05m07.8s    5.7    1.90\n",
      "348.195+0.768  17h11m00.20s  -38d20m05.5s   -0.8    4.55\n",
      "348.654+0.244  17h14m32.37s  -38d16m16.8s   16.9    0.82\n",
      "348.723-0.078  17h16m04.77s  -38d24m08.8s   11.5    2.58\n",
      "348.703-1.043  17h20m04.06s  -38d58m30.9s   -3.5   65.00\n",
      "348.892-0.180  17h17m00.23s  -38d19m28.9s    1.5    2.70\n",
      "349.067-0.017  17h16m50.74s  -38d05m14.3s   11.6    2.30\n",
      "349.151+0.021  17h16m55.88s  -37d59m47.9s   14.6    3.36\n",
      "349.884+0.231  17h18m12.37s  -37d16m40.0s   16.2    6.96\n",
      "337.517-0.348  16h39m03.09s  -47d20m48.7s    9.4    1.50\n",
      "342.954-0.019  16h57m30.66s  -42d58m34.8s   -3.0    2.00\n",
      "343.929+0.125  17h00m10.91s  -42d07m19.3s   14.4    9.00\n",
      "344.581-0.024  17h02m57.71s  -41d41m53.8s    1.4    3.50\n",
      "270.255+0.835  09h16m41.51s  -47d56m12.1s    3.9    0.42\n",
      "281.710-1.104  10h05m05.63s  -56d57m24.7s    0.9    0.35\n",
      "284.352-0.419  10h24m10.89s  -57d52m38.8s    3.9    2.47\n",
      "284.694-0.361  10h26m36.29s  -58d00m34.3s   13.3    3.28\n",
      "285.337-0.002  10h32m09.62s  -58d02m04.6s    0.7   11.37\n",
      "286.383-1.834  10h31m55.12s  -60d08m38.6s    9.6   15.49\n",
      "287.371+0.644  10h48m04.44s  -58d27m01.0s   -1.9  104.25\n",
      "291.579-0.431  11h15m05.76s  -61d09m40.8s   15.2    1.00\n",
      "291.582-0.435  11h15m06.61s  -61d09m58.3s   10.4    2.75\n",
      "291.642-0.546  11h15m14.32s  -61d17m26.7s   12.1    0.20\n",
      "291.879-0.810  11h16m17.35s  -61d37m20.7s   33.5    1.34\n",
      "292.468+0.168  11h23m42.17s  -60d54m33.5s   10.9    4.40\n",
      "293.723-1.742  11h28m32.97s  -63d07m18.6s   24.2    0.55\n",
      "293.827-0.746  11h32m05.56s  -62d12m25.3s   37.0    2.50\n",
      "293.942-0.874  11h32m42.09s  -62d21m47.5s   41.1    4.30\n",
      "296.893-1.305  11h56m50.07s  -63d32m05.5s   22.2    1.20\n",
      "297.406-0.622  12h02m30.42s  -62d58m03.8s   27.8    1.42\n",
      "298.177-0.795  12h08m57.56s  -63d16m25.8s   23.5    2.62\n",
      "298.213-0.343  12h09m55.18s  -62d50m01.1s   33.3    1.30\n",
      "298.632-0.362  12h13m31.63s  -62d55m01.0s   37.2    1.35\n",
      "298.723-0.086  12h14m39.50s  -62d39m25.9s   23.5    1.12\n",
      "299.013+0.128  12h17m24.60s  -62d29m03.7s   18.3    8.23\n",
      "300.504-0.176  12h30m03.58s  -62d56m48.7s    7.5    4.11\n",
      "302.455-0.741  12h47m08.65s  -63d36m30.2s   32.6    1.16\n",
      "303.507-0.721  12h56m36.66s  -63d35m14.5s   14.2    2.06\n",
      "303.846-0.363  12h59m33.37s  -63d13m14.7s   24.8    7.40\n",
      "304.367-0.336  13h04m09.82s  -63d10m20.2s   32.7    0.94\n",
      "308.651-0.507  13h41m50.19s  -62d49m05.2s    3.2    5.67\n",
      "310.180-0.122  13h54m01.78s  -62d06m34.6s    3.6    1.07\n",
      "311.230-0.032  14h02m27.47s  -61d45m14.4s   24.8    2.27\n",
      "311.643-0.380  14h06m38.77s  -61d58m23.1s   32.6   10.29\n",
      "311.729-0.735  14h08m13.97s  -62d17m16.5s   30.9    0.46\n",
      "312.501-0.084  14h12m48.95s  -61d26m03.2s   21.8    1.19\n",
      "312.698+0.126  14h13m49.85s  -61d10m24.1s   29.5    1.65\n",
      "313.994-0.084  14h24m30.78s  -60d56m28.3s   -4.9   15.03\n",
      "315.803-0.575  14h39m46.46s  -60d42m39.6s    8.2    8.89\n",
      "316.359-0.362  14h43m11.20s  -60d17m13.3s    3.4   98.39\n",
      "316.381-0.379  14h43m24.21s  -60d17m37.4s   -0.5   18.12\n",
      "318.043-1.404  14h59m08.61s  -60d28m25.5s   46.3    6.07\n",
      "323.766-1.370  15h36m37.69s  -57d24m01.6s   46.6    2.47\n",
      "324.789-0.378  15h38m22.85s  -55d59m47.0s   11.8    1.15\n",
      "324.915+0.158  15h36m51.17s  -55d29m22.9s   -2.3    8.99\n",
      "325.659-0.022  15h41m48.70s  -55d11m27.0s   29.4    0.57\n",
      "327.282-0.469  15h52m36.03s  -54d32m24.0s    0.0    5.40\n",
      "328.385+0.131  15h55m47.33s  -53d22m30.8s   29.0    1.60\n"
     ]
    }
   ],
   "source": [
    "for i in z[indx]:\n",
    "    print('{:15s}{:2s}h{:2s}m{:2s}s {:>4s}d{:2s}m{:3s}s {:>6s}{:>8s}'.format(*i))"
   ]
  },
  {
   "cell_type": "code",
   "execution_count": null,
   "metadata": {},
   "outputs": [],
   "source": []
  }
 ],
 "metadata": {
  "kernelspec": {
   "display_name": "Python 2",
   "language": "python",
   "name": "python2"
  },
  "language_info": {
   "codemirror_mode": {
    "name": "ipython",
    "version": 2
   },
   "file_extension": ".py",
   "mimetype": "text/x-python",
   "name": "python",
   "nbconvert_exporter": "python",
   "pygments_lexer": "ipython2",
   "version": "2.7.16"
  },
  "toc": {
   "base_numbering": 1,
   "nav_menu": {},
   "number_sections": true,
   "sideBar": true,
   "skip_h1_title": false,
   "title_cell": "Table of Contents",
   "title_sidebar": "Contents",
   "toc_cell": false,
   "toc_position": {},
   "toc_section_display": true,
   "toc_window_display": false
  },
  "varInspector": {
   "cols": {
    "lenName": 16,
    "lenType": 16,
    "lenVar": 40
   },
   "kernels_config": {
    "python": {
     "delete_cmd_postfix": "",
     "delete_cmd_prefix": "del ",
     "library": "var_list.py",
     "varRefreshCmd": "print(var_dic_list())"
    },
    "r": {
     "delete_cmd_postfix": ") ",
     "delete_cmd_prefix": "rm(",
     "library": "var_list.r",
     "varRefreshCmd": "cat(var_dic_list()) "
    }
   },
   "types_to_exclude": [
    "module",
    "function",
    "builtin_function_or_method",
    "instance",
    "_Feature"
   ],
   "window_display": false
  }
 },
 "nbformat": 4,
 "nbformat_minor": 4
}
