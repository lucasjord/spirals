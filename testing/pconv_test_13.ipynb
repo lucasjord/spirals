{
 "cells": [
  {
   "cell_type": "code",
   "execution_count": 2,
   "metadata": {},
   "outputs": [],
   "source": [
    "#%matplotlib widget\n",
    "\n",
    "import matplotlib.pyplot as plt\n",
    "import numpy as np\n",
    "import struct, os, math, random\n",
    "from matplotlib import rc, font_manager\n",
    "from numpy import pi, arcsin, cos, sin, percentile, exp\n",
    "\n",
    "try:\n",
    "    os.system('rm /Users/Lucas/.matplotlib/fontlist-v310.json')\n",
    "except FileNotFoundError:\n",
    "    pass\n",
    "    \n",
    "rc('font',**{'family':'serif','serif':['Computer Modern Roman']})\n",
    "rc('text', usetex=True)\n",
    "\n",
    "try:\n",
    "    fm = font_manager.json_load(os.path.expanduser(\"~/.matplotlib/fontlist-v310.json\"))\n",
    "    fm.findfont(\"serif\",fontext=\"afm\", rebuild_if_missing=False)\n",
    "except FileNotFoundError:\n",
    "    pass\n",
    "\n",
    "from matplotlib import rcParams\n",
    "rcParams.update({'font.size': 14})\n",
    "\n",
    "from astropy.time import Time\n",
    "from astropy.coordinates import SkyCoord\n",
    "from astropy import units as u\n",
    "import datetime\n"
   ]
  },
  {
   "cell_type": "code",
   "execution_count": 39,
   "metadata": {
    "jupyter": {
     "source_hidden": true
    }
   },
   "outputs": [],
   "source": [
    "def get_file(path):\n",
    "    #opens and external file and makes it into a list\n",
    "    fopen = path\n",
    "    f=open(fopen, 'r+')\n",
    "    g=list(f)\n",
    "    g=map(lambda s: s.strip(), g)\n",
    "    return np.array(list(g))\n",
    "\n",
    "def splitt(old_list):\n",
    "    #splits the list entries into sublists\n",
    "    new_list=[]\n",
    "    for i in old_list:\n",
    "        new_list+=[i.split()]\n",
    "    return np.array(new_list)\n",
    "\n",
    "def splitt2(old_list,char):\n",
    "    #splits the list entries into sublists\n",
    "    new_list=[]\n",
    "    for i in old_list:\n",
    "        new_list+=[i.split(char)]\n",
    "    return np.array(new_list)\n",
    "\n",
    "def refine_fits(old_list, length_cat, symbol_cat, \n",
    "    column_search_number, column_retrival_number):\n",
    "    #to refine an imported list after the use of get_file()\n",
    "    #to remove header information or filter the list\n",
    "    # only works for 2-dim type objects\n",
    "    #symbol_cat is a single character\n",
    "    tmp_list=[]\n",
    "    if not length_cat==None:\n",
    "        for i in old_list:\n",
    "            if len(i)==length_cat:\n",
    "                tmp_list+=[i]\n",
    "    else:\n",
    "        tmp_list=old_list\n",
    "    tmp_list_2=[]\n",
    "    if not symbol_cat==None:\n",
    "        for i in tmp_list:\n",
    "            if not column_search_number==None:\n",
    "                column=i[column_search_number-1] #searches specific column for match\n",
    "            else:\n",
    "                column=i #searches all columns.\n",
    "            for row_element in column: #searching rows in columns\n",
    "                if row_element.count(symbol_cat)>0:\n",
    "                    tmp_list_2+=[column]\n",
    "                    break #ends if it finds it to prevent line repeats\n",
    "                else:\n",
    "                    continue #continues to look if it doesn't\n",
    "    else:\n",
    "        tmp_list_2=tmp_list\n",
    "    tmp_list_3=[]\n",
    "    if column_search_number==None:\n",
    "        if not column_retrival_number==None:\n",
    "            for i in tmp_list_2:\n",
    "                tmp_list_3+=[i[column_retrival_number-1]]\n",
    "        else:\n",
    "            tmp_list_3=tmp_list_2\n",
    "    else:\n",
    "        tmp_list_3=tmp_list_2\n",
    "    tmp_list_4 = []\n",
    "    for k in range(len(tmp_list_3)):\n",
    "        if 'localhos' not in tmp_list_3[k]:\n",
    "            tmp_list_4+=[tmp_list_3[k]]\n",
    "    return tmp_list_4"
   ]
  },
  {
   "cell_type": "code",
   "execution_count": 40,
   "metadata": {},
   "outputs": [],
   "source": [
    "t, a, b, u, v, w, A_rr, P_rr, W_rr, \\\n",
    "                  A_ll, P_ll, W_ll, \\\n",
    "                  A_rl, P_rl, W_rl, \\\n",
    "                  A_lr, P_lr, W_lr = np.split(splitt(get_file('amp_phs.uvprt')[16:]),18,1)"
   ]
  },
  {
   "cell_type": "code",
   "execution_count": 120,
   "metadata": {},
   "outputs": [],
   "source": [
    "a_rr = A_rr.astype(float).reshape(len(A_rr),)\n",
    "a_ll = A_ll.astype(float).reshape(len(A_rr),)\n",
    "a_rl = A_rl.astype(float).reshape(len(A_rr),)\n",
    "a_lr = A_lr.astype(float).reshape(len(A_rr),)\n",
    "\n",
    "b1 = np.char.strip(a.reshape(len(A_rr),),chars='-').astype(int)\n",
    "b2 = np.char.strip(b.reshape(len(A_rr),),chars='-').astype(int)\n",
    "\n",
    "ind = (b1==1)*(b2==2)"
   ]
  },
  {
   "cell_type": "code",
   "execution_count": 121,
   "metadata": {},
   "outputs": [
    {
     "data": {
      "image/png": "[encoded data removed]",
      "text/plain": [
       "<Figure size 504x504 with 1 Axes>"
      ]
     },
     "metadata": {
      "needs_background": "light"
     },
     "output_type": "display_data"
    }
   ],
   "source": [
    "fig, ax = plt.subplots(1,figsize=(7,7))\n",
    "ax.plot(a_rr[ind],'.')\n",
    "ax.plot(a_ll[ind],'.')\n",
    "ax.plot(a_rl[ind],'.')\n",
    "ax.plot(a_lr[ind],'.');\n",
    "ax.legend(['RR','LL','RL','LR'])\n",
    "ax.set_ylim(0,5);"
   ]
  },
  {
   "cell_type": "code",
   "execution_count": null,
   "metadata": {},
   "outputs": [],
   "source": []
  },
  {
   "cell_type": "code",
   "execution_count": null,
   "metadata": {},
   "outputs": [],
   "source": []
  },
  {
   "cell_type": "code",
   "execution_count": null,
   "metadata": {},
   "outputs": [],
   "source": []
  },
  {
   "cell_type": "code",
   "execution_count": null,
   "metadata": {},
   "outputs": [],
   "source": []
  }
 ],
 "metadata": {
  "kernelspec": {
   "display_name": "Python [conda env:parseltongue2]",
   "language": "python",
   "name": "conda-env-parseltongue2-py"
  },
  "language_info": {
   "codemirror_mode": {
    "name": "ipython",
    "version": 2
   },
   "file_extension": ".py",
   "mimetype": "text/x-python",
   "name": "python",
   "nbconvert_exporter": "python",
   "pygments_lexer": "ipython2",
   "version": "2.7.15"
  }
 },
 "nbformat": 4,
 "nbformat_minor": 4
}
