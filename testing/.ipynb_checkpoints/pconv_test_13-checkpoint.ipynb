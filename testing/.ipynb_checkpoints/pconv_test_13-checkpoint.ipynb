{
 "cells": [
  {
   "cell_type": "code",
   "execution_count": 2,
   "metadata": {},
   "outputs": [],
   "source": [
    "#%matplotlib widget\n",
    "\n",
    "import matplotlib.pyplot as plt\n",
    "import numpy as np\n",
    "import struct, os, math, random\n",
    "from matplotlib import rc, font_manager\n",
    "from numpy import pi, arcsin, cos, sin, percentile, exp\n",
    "\n",
    "try:\n",
    "    os.system('rm /Users/Lucas/.matplotlib/fontlist-v310.json')\n",
    "except FileNotFoundError:\n",
    "    pass\n",
    "    \n",
    "rc('font',**{'family':'serif','serif':['Computer Modern Roman']})\n",
    "rc('text', usetex=True)\n",
    "\n",
    "try:\n",
    "    fm = font_manager.json_load(os.path.expanduser(\"~/.matplotlib/fontlist-v310.json\"))\n",
    "    fm.findfont(\"serif\",fontext=\"afm\", rebuild_if_missing=False)\n",
    "except FileNotFoundError:\n",
    "    pass\n",
    "\n",
    "from matplotlib import rcParams\n",
    "rcParams.update({'font.size': 14})\n",
    "\n",
    "from astropy.time import Time\n",
    "from astropy.coordinates import SkyCoord\n",
    "from astropy import units as u\n",
    "import datetime\n"
   ]
  },
  {
   "cell_type": "code",
   "execution_count": 14,
   "metadata": {},
   "outputs": [],
   "source": [
    "def get_file(path):\n",
    "    #opens and external file and makes it into a list\n",
    "    fopen = path\n",
    "    f=open(fopen, 'r+')\n",
    "    g=list(f)\n",
    "    g=map(lambda s: s.strip(), g)\n",
    "    return np.array(list(g))\n",
    "\n",
    "def splitt(old_list):\n",
    "    #splits the list entries into sublists\n",
    "    new_list=[]\n",
    "    for i in old_list:\n",
    "        new_list+=[i.split()]\n",
    "    return new_list\n",
    "\n",
    "def splitt2(old_list,char):\n",
    "    #splits the list entries into sublists\n",
    "    new_list=[]\n",
    "    for i in old_list:\n",
    "        new_list+=[i.split(char)]\n",
    "    return np.array(new_list)\n",
    "\n",
    "def refine_fits(old_list, length_cat, symbol_cat, \n",
    "    column_search_number, column_retrival_number):\n",
    "    #to refine an imported list after the use of get_file()\n",
    "    #to remove header information or filter the list\n",
    "    # only works for 2-dim type objects\n",
    "    #symbol_cat is a single character\n",
    "    tmp_list=[]\n",
    "    if not length_cat==None:\n",
    "        for i in old_list:\n",
    "            if len(i)==length_cat:\n",
    "                tmp_list+=[i]\n",
    "    else:\n",
    "        tmp_list=old_list\n",
    "    tmp_list_2=[]\n",
    "    if not symbol_cat==None:\n",
    "        for i in tmp_list:\n",
    "            if not column_search_number==None:\n",
    "                column=i[column_search_number-1] #searches specific column for match\n",
    "            else:\n",
    "                column=i #searches all columns.\n",
    "            for row_element in column: #searching rows in columns\n",
    "                if row_element.count(symbol_cat)>0:\n",
    "                    tmp_list_2+=[column]\n",
    "                    break #ends if it finds it to prevent line repeats\n",
    "                else:\n",
    "                    continue #continues to look if it doesn't\n",
    "    else:\n",
    "        tmp_list_2=tmp_list\n",
    "    tmp_list_3=[]\n",
    "    if column_search_number==None:\n",
    "        if not column_retrival_number==None:\n",
    "            for i in tmp_list_2:\n",
    "                tmp_list_3+=[i[column_retrival_number-1]]\n",
    "        else:\n",
    "            tmp_list_3=tmp_list_2\n",
    "    else:\n",
    "        tmp_list_3=tmp_list_2\n",
    "    tmp_list_4 = []\n",
    "    for k in range(len(tmp_list_3)):\n",
    "        if 'localhos' not in tmp_list_3[k]:\n",
    "            tmp_list_4+=[tmp_list_3[k]]\n",
    "    return tmp_list_4"
   ]
  },
  {
   "cell_type": "code",
   "execution_count": 28,
   "metadata": {},
   "outputs": [
    {
     "data": {
      "text/plain": [
       "array([['0/03:45:00.1', '2-', '4', ..., '1.758', '-175', '0.0030'],\n",
       "       ['0/03:45:03.1', '1-', '4', ..., '0.192', '119', '0.0244'],\n",
       "       ['0/03:45:03.2', '1-', '2', ..., '1.929', '15', '0.0018'],\n",
       "       ...,\n",
       "       ['0/11:10:26.9', '3-', '4', ..., '1.324', '56', '0.0022'],\n",
       "       ['0/11:10:35.1', '1-', '2', ..., '2.105', '-173', '0.0036'],\n",
       "       ['0/11:23:44.9', '3-', '4', ..., '1.859', '132', '0.0022']],\n",
       "      dtype='<U12')"
      ]
     },
     "execution_count": 28,
     "metadata": {},
     "output_type": "execute_result"
    }
   ],
   "source": [
    "np.array(splitt(get_file('amp_phs.uvprt')[16:]))"
   ]
  },
  {
   "cell_type": "code",
   "execution_count": null,
   "metadata": {},
   "outputs": [],
   "source": []
  }
 ],
 "metadata": {
  "kernelspec": {
   "display_name": "Python [conda env:analysis3] *",
   "language": "python",
   "name": "conda-env-analysis3-py"
  },
  "language_info": {
   "codemirror_mode": {
    "name": "ipython",
    "version": 3
   },
   "file_extension": ".py",
   "mimetype": "text/x-python",
   "name": "python",
   "nbconvert_exporter": "python",
   "pygments_lexer": "ipython3",
   "version": "3.7.3"
  }
 },
 "nbformat": 4,
 "nbformat_minor": 4
}
