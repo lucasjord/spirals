{
 "cells": [
  {
   "cell_type": "code",
   "execution_count": 91,
   "metadata": {},
   "outputs": [],
   "source": [
    "import numpy as np, matplotlib.pyplot as plt\n",
    "import parseDiFX, pylab"
   ]
  },
  {
   "cell_type": "code",
   "execution_count": 204,
   "metadata": {},
   "outputs": [],
   "source": [
    "inputfile   = 's004i_60.input'\n",
    "numfiles    = 1\n",
    "filename    = 'DIFX_59258_055901.s0000.b0000'\n",
    "maxchannels = 8192\n",
    "pollist     = ['RR','LL']"
   ]
  },
  {
   "cell_type": "code",
   "execution_count": 213,
   "metadata": {},
   "outputs": [],
   "source": [
    "(numfreqs, freqs)             = parseDiFX.get_freqtable_info(inputfile)\n",
    "(numtelescopes, telescopes)   = parseDiFX.get_telescopetable_info(inputfile)\n",
    "(numdatastreams, datastreams) = parseDiFX.get_datastreamtable_info(inputfile)\n",
    "(numbaselines, baselines)     = parseDiFX.get_baselinetable_info(inputfile)\n",
    "amprange                      = [-1,-1]"
   ]
  },
  {
   "cell_type": "code",
   "execution_count": 214,
   "metadata": {},
   "outputs": [],
   "source": [
    "chans = []\n",
    "amp = []\n",
    "phase = []\n",
    "vis = []\n",
    "lag = []\n",
    "lagamp = []\n",
    "for i in range(numfiles):\n",
    "    amp.append([])\n",
    "    phase.append([])\n",
    "    vis.append([])\n",
    "    lag.append([])\n",
    "    lagamp.append([])\n",
    "    for j in range(maxchannels):\n",
    "        amp[i].append(0.0)\n",
    "        phase[i].append(0.0)\n",
    "        vis[i].append(0.0)\n",
    "        lag[i].append(0.0)\n",
    "        lagamp[i].append(0.0)\n",
    "    \n",
    "for i in range(maxchannels):\n",
    "    chans.append(i)"
   ]
  },
  {
   "cell_type": "code",
   "execution_count": 216,
   "metadata": {},
   "outputs": [],
   "source": [
    "linestyles = ['b', 'r', 'g', 'k', 'y']\n",
    "difxinputs  = []\n",
    "nextheader  = []\n",
    "mjd         = []\n",
    "seconds     = []\n",
    "freqindex   = []\n",
    "baseline    = []\n",
    "polpair     = []\n",
    "nchan       = []\n",
    "med         = []\n",
    "\n",
    "difxinputs.append(open(filename))\n",
    "freqindex.append(0)\n",
    "nchan.append(0)\n",
    "baseline.append(0)\n",
    "mjd.append(0)\n",
    "seconds.append(0.0)\n",
    "med.append(0.0)\n",
    "polpair.append(\"\")\n",
    "nextheader.append([])\n",
    "unplottedbaselines=[]\n",
    "for i in range(16):\n",
    "    for j in range(16):\n",
    "        unplottedbaselines.append(j*256+i)"
   ]
  },
  {
   "cell_type": "code",
   "execution_count": 217,
   "metadata": {},
   "outputs": [],
   "source": [
    "numfiles = 1\n",
    "\n",
    "for i in range(numfiles):\n",
    "    nextheader[i] = parseDiFX.parse_output_header(difxinputs[i])\n",
    "    \n",
    "header = parseDiFX.parse_output_header(open(filename))\n",
    "snr = 0\n",
    "delayoffsetus = 0\n",
    "baseline[i]   = header[0]\n",
    "mjd[i]        = header[1]\n",
    "seconds[i]    = header[2]\n",
    "freqindex[i]  = header[5]\n",
    "polpair[i]    = header[6]\n",
    "nchan[i]      = freqs[freqindex[i]].numchan/freqs[freqindex[i]].specavg\n",
    "vis[i]        = np.frombuffer(difxinputs[i].read(8*nchan[i]), dtype='complex64')\n",
    "amp[i]        = np.abs(vis[i])\n",
    "phase[i]      = np.angle(vis[i])"
   ]
  },
  {
   "cell_type": "code",
   "execution_count": null,
   "metadata": {},
   "outputs": [],
   "source": []
  },
  {
   "cell_type": "code",
   "execution_count": 209,
   "metadata": {},
   "outputs": [],
   "source": [
    "ant1index = baseline[0] / 256 - 1\n",
    "ant2index = baseline[0] % 256 - 1"
   ]
  },
  {
   "cell_type": "code",
   "execution_count": 210,
   "metadata": {},
   "outputs": [
    {
     "data": {
      "text/plain": [
       "('HB', 'HB')"
      ]
     },
     "execution_count": 210,
     "metadata": {},
     "output_type": "execute_result"
    }
   ],
   "source": [
    "telescopes[ant1index].name,telescopes[ant2index].name"
   ]
  },
  {
   "cell_type": "code",
   "execution_count": 202,
   "metadata": {},
   "outputs": [
    {
     "data": {
      "text/plain": [
       "2"
      ]
     },
     "execution_count": 202,
     "metadata": {},
     "output_type": "execute_result"
    }
   ],
   "source": [
    "514%256"
   ]
  },
  {
   "cell_type": "code",
   "execution_count": null,
   "metadata": {},
   "outputs": [],
   "source": []
  },
  {
   "cell_type": "code",
   "execution_count": null,
   "metadata": {},
   "outputs": [],
   "source": []
  },
  {
   "cell_type": "code",
   "execution_count": null,
   "metadata": {},
   "outputs": [],
   "source": []
  },
  {
   "cell_type": "code",
   "execution_count": null,
   "metadata": {},
   "outputs": [],
   "source": []
  },
  {
   "cell_type": "code",
   "execution_count": null,
   "metadata": {},
   "outputs": [],
   "source": []
  },
  {
   "cell_type": "code",
   "execution_count": null,
   "metadata": {},
   "outputs": [],
   "source": []
  }
 ],
 "metadata": {
  "kernelspec": {
   "display_name": "Python 2",
   "language": "python",
   "name": "python2"
  },
  "language_info": {
   "codemirror_mode": {
    "name": "ipython",
    "version": 2
   },
   "file_extension": ".py",
   "mimetype": "text/x-python",
   "name": "python",
   "nbconvert_exporter": "python",
   "pygments_lexer": "ipython2",
   "version": "2.7.16"
  }
 },
 "nbformat": 4,
 "nbformat_minor": 2
}
